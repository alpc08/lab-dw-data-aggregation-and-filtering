{
  "cells": [
    {
      "cell_type": "markdown",
      "id": "31969215-2a90-4d8b-ac36-646a7ae13744",
      "metadata": {
        "id": "31969215-2a90-4d8b-ac36-646a7ae13744"
      },
      "source": [
        "# Lab | Data Aggregation and Filtering"
      ]
    },
    {
      "cell_type": "markdown",
      "id": "a8f08a52-bec0-439b-99cc-11d3809d8b5d",
      "metadata": {
        "id": "a8f08a52-bec0-439b-99cc-11d3809d8b5d"
      },
      "source": [
        "In this challenge, we will continue to work with customer data from an insurance company. We will use the dataset called marketing_customer_analysis.csv, which can be found at the following link:\n",
        "\n",
        "https://raw.githubusercontent.com/data-bootcamp-v4/data/main/marketing_customer_analysis.csv\n",
        "\n",
        "This dataset contains information such as customer demographics, policy details, vehicle information, and the customer's response to the last marketing campaign. Our goal is to explore and analyze this data by first performing data cleaning, formatting, and structuring."
      ]
    },
    {
      "cell_type": "markdown",
      "id": "9c98ddc5-b041-4c94-ada1-4dfee5c98e50",
      "metadata": {
        "id": "9c98ddc5-b041-4c94-ada1-4dfee5c98e50"
      },
      "source": [
        "1. Create a new DataFrame that only includes customers who have a total_claim_amount greater than $1,000 and have a response of \"Yes\" to the last marketing campaign."
      ]
    },
    {
      "cell_type": "code",
      "execution_count": 176,
      "id": "f2732338",
      "metadata": {},
      "outputs": [
        {
          "name": "stdout",
          "output_type": "stream",
          "text": [
            "<class 'pandas.core.frame.DataFrame'>\n",
            "RangeIndex: 10910 entries, 0 to 10909\n",
            "Data columns (total 26 columns):\n",
            " #   Column                         Non-Null Count  Dtype  \n",
            "---  ------                         --------------  -----  \n",
            " 0   Unnamed: 0                     10910 non-null  int64  \n",
            " 1   Customer                       10910 non-null  object \n",
            " 2   State                          10279 non-null  object \n",
            " 3   Customer Lifetime Value        10910 non-null  float64\n",
            " 4   Response                       10279 non-null  object \n",
            " 5   Coverage                       10910 non-null  object \n",
            " 6   Education                      10910 non-null  object \n",
            " 7   Effective To Date              10910 non-null  object \n",
            " 8   EmploymentStatus               10910 non-null  object \n",
            " 9   Gender                         10910 non-null  object \n",
            " 10  Income                         10910 non-null  int64  \n",
            " 11  Location Code                  10910 non-null  object \n",
            " 12  Marital Status                 10910 non-null  object \n",
            " 13  Monthly Premium Auto           10910 non-null  int64  \n",
            " 14  Months Since Last Claim        10277 non-null  float64\n",
            " 15  Months Since Policy Inception  10910 non-null  int64  \n",
            " 16  Number of Open Complaints      10277 non-null  float64\n",
            " 17  Number of Policies             10910 non-null  int64  \n",
            " 18  Policy Type                    10910 non-null  object \n",
            " 19  Policy                         10910 non-null  object \n",
            " 20  Renew Offer Type               10910 non-null  object \n",
            " 21  Sales Channel                  10910 non-null  object \n",
            " 22  Total Claim Amount             10910 non-null  float64\n",
            " 23  Vehicle Class                  10288 non-null  object \n",
            " 24  Vehicle Size                   10288 non-null  object \n",
            " 25  Vehicle Type                   5428 non-null   object \n",
            "dtypes: float64(4), int64(5), object(17)\n",
            "memory usage: 2.2+ MB\n",
            "None\n"
          ]
        }
      ],
      "source": [
        "import pandas as pd\n",
        "url = \"https://raw.githubusercontent.com/data-bootcamp-v4/data/main/marketing_customer_analysis.csv\"\n",
        "\n",
        "df = pd.read_csv(url)\n",
        "print(df.info())\n",
        "def col_name():\n",
        "    name_new=[]\n",
        "    for name in df.columns:\n",
        "        name_new.append(name.lower().replace(\" \",\"_\"))\n",
        "    return name_new\n",
        "    \n",
        "df.columns = col_name()\n"
      ]
    },
    {
      "cell_type": "code",
      "execution_count": 177,
      "id": "2278046d",
      "metadata": {},
      "outputs": [
        {
          "data": {
            "text/html": [
              "<div>\n",
              "<style scoped>\n",
              "    .dataframe tbody tr th:only-of-type {\n",
              "        vertical-align: middle;\n",
              "    }\n",
              "\n",
              "    .dataframe tbody tr th {\n",
              "        vertical-align: top;\n",
              "    }\n",
              "\n",
              "    .dataframe thead th {\n",
              "        text-align: right;\n",
              "    }\n",
              "</style>\n",
              "<table border=\"1\" class=\"dataframe\">\n",
              "  <thead>\n",
              "    <tr style=\"text-align: right;\">\n",
              "      <th></th>\n",
              "      <th>total_claim_amount</th>\n",
              "      <th>response</th>\n",
              "    </tr>\n",
              "  </thead>\n",
              "  <tbody>\n",
              "    <tr>\n",
              "      <th>3</th>\n",
              "      <td>484.013411</td>\n",
              "      <td>Yes</td>\n",
              "    </tr>\n",
              "    <tr>\n",
              "      <th>8</th>\n",
              "      <td>739.200000</td>\n",
              "      <td>Yes</td>\n",
              "    </tr>\n",
              "    <tr>\n",
              "      <th>15</th>\n",
              "      <td>547.200000</td>\n",
              "      <td>Yes</td>\n",
              "    </tr>\n",
              "    <tr>\n",
              "      <th>19</th>\n",
              "      <td>19.575683</td>\n",
              "      <td>Yes</td>\n",
              "    </tr>\n",
              "    <tr>\n",
              "      <th>27</th>\n",
              "      <td>60.036683</td>\n",
              "      <td>Yes</td>\n",
              "    </tr>\n",
              "    <tr>\n",
              "      <th>...</th>\n",
              "      <td>...</td>\n",
              "      <td>...</td>\n",
              "    </tr>\n",
              "    <tr>\n",
              "      <th>10844</th>\n",
              "      <td>547.200000</td>\n",
              "      <td>Yes</td>\n",
              "    </tr>\n",
              "    <tr>\n",
              "      <th>10852</th>\n",
              "      <td>791.878042</td>\n",
              "      <td>Yes</td>\n",
              "    </tr>\n",
              "    <tr>\n",
              "      <th>10872</th>\n",
              "      <td>547.200000</td>\n",
              "      <td>Yes</td>\n",
              "    </tr>\n",
              "    <tr>\n",
              "      <th>10887</th>\n",
              "      <td>528.200860</td>\n",
              "      <td>Yes</td>\n",
              "    </tr>\n",
              "    <tr>\n",
              "      <th>10897</th>\n",
              "      <td>158.077504</td>\n",
              "      <td>Yes</td>\n",
              "    </tr>\n",
              "  </tbody>\n",
              "</table>\n",
              "<p>1466 rows × 2 columns</p>\n",
              "</div>"
            ],
            "text/plain": [
              "       total_claim_amount response\n",
              "3              484.013411      Yes\n",
              "8              739.200000      Yes\n",
              "15             547.200000      Yes\n",
              "19              19.575683      Yes\n",
              "27              60.036683      Yes\n",
              "...                   ...      ...\n",
              "10844          547.200000      Yes\n",
              "10852          791.878042      Yes\n",
              "10872          547.200000      Yes\n",
              "10887          528.200860      Yes\n",
              "10897          158.077504      Yes\n",
              "\n",
              "[1466 rows x 2 columns]"
            ]
          },
          "execution_count": 177,
          "metadata": {},
          "output_type": "execute_result"
        }
      ],
      "source": [
        "df_yes = df[[\"total_claim_amount\", \"response\"]]\n",
        "df_yes = df_yes[(df_yes[\"total_claim_amount\"]>=1.000) & (df_yes[\"response\"]==\"Yes\")]\n",
        "df_yes"
      ]
    },
    {
      "cell_type": "markdown",
      "id": "b9be383e-5165-436e-80c8-57d4c757c8c3",
      "metadata": {
        "id": "b9be383e-5165-436e-80c8-57d4c757c8c3"
      },
      "source": [
        "2. Using the original Dataframe, analyze the average total_claim_amount by each policy type and gender for customers who have responded \"Yes\" to the last marketing campaign. Write your conclusions."
      ]
    },
    {
      "cell_type": "code",
      "execution_count": 178,
      "id": "309ce229",
      "metadata": {},
      "outputs": [
        {
          "data": {
            "text/html": [
              "<div>\n",
              "<style scoped>\n",
              "    .dataframe tbody tr th:only-of-type {\n",
              "        vertical-align: middle;\n",
              "    }\n",
              "\n",
              "    .dataframe tbody tr th {\n",
              "        vertical-align: top;\n",
              "    }\n",
              "\n",
              "    .dataframe thead th {\n",
              "        text-align: right;\n",
              "    }\n",
              "</style>\n",
              "<table border=\"1\" class=\"dataframe\">\n",
              "  <thead>\n",
              "    <tr style=\"text-align: right;\">\n",
              "      <th></th>\n",
              "      <th></th>\n",
              "      <th>total_claim_amount</th>\n",
              "    </tr>\n",
              "    <tr>\n",
              "      <th>gender</th>\n",
              "      <th>policy_type</th>\n",
              "      <th></th>\n",
              "    </tr>\n",
              "  </thead>\n",
              "  <tbody>\n",
              "    <tr>\n",
              "      <th rowspan=\"3\" valign=\"top\">F</th>\n",
              "      <th>Corporate Auto</th>\n",
              "      <td>433.738499</td>\n",
              "    </tr>\n",
              "    <tr>\n",
              "      <th>Personal Auto</th>\n",
              "      <td>452.965929</td>\n",
              "    </tr>\n",
              "    <tr>\n",
              "      <th>Special Auto</th>\n",
              "      <td>453.280164</td>\n",
              "    </tr>\n",
              "    <tr>\n",
              "      <th rowspan=\"3\" valign=\"top\">M</th>\n",
              "      <th>Corporate Auto</th>\n",
              "      <td>408.582459</td>\n",
              "    </tr>\n",
              "    <tr>\n",
              "      <th>Personal Auto</th>\n",
              "      <td>457.010178</td>\n",
              "    </tr>\n",
              "    <tr>\n",
              "      <th>Special Auto</th>\n",
              "      <td>429.527942</td>\n",
              "    </tr>\n",
              "  </tbody>\n",
              "</table>\n",
              "</div>"
            ],
            "text/plain": [
              "                       total_claim_amount\n",
              "gender policy_type                       \n",
              "F      Corporate Auto          433.738499\n",
              "       Personal Auto           452.965929\n",
              "       Special Auto            453.280164\n",
              "M      Corporate Auto          408.582459\n",
              "       Personal Auto           457.010178\n",
              "       Special Auto            429.527942"
            ]
          },
          "execution_count": 178,
          "metadata": {},
          "output_type": "execute_result"
        }
      ],
      "source": [
        "df_gender = df[(df[\"response\"]==\"Yes\")]\n",
        "\n",
        "df_gender = df_gender[[\"total_claim_amount\", \"gender\", \"policy_type\"]]\n",
        "\n",
        "df_gender.groupby([\"gender\", \"policy_type\"]).agg({\"total_claim_amount\": \"mean\"})"
      ]
    },
    {
      "cell_type": "code",
      "execution_count": 179,
      "id": "401bb062",
      "metadata": {},
      "outputs": [
        {
          "data": {
            "text/html": [
              "<div>\n",
              "<style scoped>\n",
              "    .dataframe tbody tr th:only-of-type {\n",
              "        vertical-align: middle;\n",
              "    }\n",
              "\n",
              "    .dataframe tbody tr th {\n",
              "        vertical-align: top;\n",
              "    }\n",
              "\n",
              "    .dataframe thead th {\n",
              "        text-align: right;\n",
              "    }\n",
              "</style>\n",
              "<table border=\"1\" class=\"dataframe\">\n",
              "  <thead>\n",
              "    <tr style=\"text-align: right;\">\n",
              "      <th></th>\n",
              "      <th>total_claim_amount</th>\n",
              "    </tr>\n",
              "    <tr>\n",
              "      <th>policy_type</th>\n",
              "      <th></th>\n",
              "    </tr>\n",
              "  </thead>\n",
              "  <tbody>\n",
              "    <tr>\n",
              "      <th>Corporate Auto</th>\n",
              "      <td>421.744598</td>\n",
              "    </tr>\n",
              "    <tr>\n",
              "      <th>Personal Auto</th>\n",
              "      <td>454.980536</td>\n",
              "    </tr>\n",
              "    <tr>\n",
              "      <th>Special Auto</th>\n",
              "      <td>441.935819</td>\n",
              "    </tr>\n",
              "  </tbody>\n",
              "</table>\n",
              "</div>"
            ],
            "text/plain": [
              "                total_claim_amount\n",
              "policy_type                       \n",
              "Corporate Auto          421.744598\n",
              "Personal Auto           454.980536\n",
              "Special Auto            441.935819"
            ]
          },
          "execution_count": 179,
          "metadata": {},
          "output_type": "execute_result"
        }
      ],
      "source": [
        "df_gender.groupby([\"policy_type\"]).agg({\"total_claim_amount\": \"mean\"})"
      ]
    },
    {
      "cell_type": "markdown",
      "id": "cf9e5924",
      "metadata": {},
      "source": [
        "### If we analyse the types of policies it's clear that the corporate auto and the special auto have higher total claims in the female gender. on the personal auto the value it's similar (a little higher in the male)."
      ]
    },
    {
      "cell_type": "markdown",
      "id": "7050f4ac-53c5-4193-a3c0-8699b87196f0",
      "metadata": {
        "id": "7050f4ac-53c5-4193-a3c0-8699b87196f0"
      },
      "source": [
        "3. Analyze the total number of customers who have policies in each state, and then filter the results to only include states where there are more than 500 customers."
      ]
    },
    {
      "cell_type": "code",
      "execution_count": 180,
      "id": "f179fa1b",
      "metadata": {},
      "outputs": [
        {
          "data": {
            "text/plain": [
              "state\n",
              "Arizona       1937\n",
              "California    3552\n",
              "Nevada         993\n",
              "Oregon        2909\n",
              "Washington     888\n",
              "dtype: int64"
            ]
          },
          "execution_count": 180,
          "metadata": {},
          "output_type": "execute_result"
        }
      ],
      "source": [
        "df_st = df[[\"customer\", \"state\"]]\n",
        "df_st = df_st.groupby(\"state\")\n",
        "\n",
        "df_st.size()"
      ]
    },
    {
      "cell_type": "markdown",
      "id": "b60a4443-a1a7-4bbf-b78e-9ccdf9895e0d",
      "metadata": {
        "id": "b60a4443-a1a7-4bbf-b78e-9ccdf9895e0d"
      },
      "source": [
        "4. Find the maximum, minimum, and median customer lifetime value by education level and gender. Write your conclusions."
      ]
    },
    {
      "cell_type": "code",
      "execution_count": 181,
      "id": "ee7fc9b9",
      "metadata": {},
      "outputs": [
        {
          "data": {
            "text/html": [
              "<div>\n",
              "<style scoped>\n",
              "    .dataframe tbody tr th:only-of-type {\n",
              "        vertical-align: middle;\n",
              "    }\n",
              "\n",
              "    .dataframe tbody tr th {\n",
              "        vertical-align: top;\n",
              "    }\n",
              "\n",
              "    .dataframe thead th {\n",
              "        text-align: right;\n",
              "    }\n",
              "</style>\n",
              "<table border=\"1\" class=\"dataframe\">\n",
              "  <thead>\n",
              "    <tr style=\"text-align: right;\">\n",
              "      <th></th>\n",
              "      <th></th>\n",
              "      <th>customer_lifetime_value</th>\n",
              "    </tr>\n",
              "    <tr>\n",
              "      <th>education</th>\n",
              "      <th>gender</th>\n",
              "      <th></th>\n",
              "    </tr>\n",
              "  </thead>\n",
              "  <tbody>\n",
              "    <tr>\n",
              "      <th rowspan=\"2\" valign=\"top\">Bachelor</th>\n",
              "      <th>F</th>\n",
              "      <td>7874.269478</td>\n",
              "    </tr>\n",
              "    <tr>\n",
              "      <th>M</th>\n",
              "      <td>7703.601675</td>\n",
              "    </tr>\n",
              "    <tr>\n",
              "      <th rowspan=\"2\" valign=\"top\">College</th>\n",
              "      <th>F</th>\n",
              "      <td>7748.823325</td>\n",
              "    </tr>\n",
              "    <tr>\n",
              "      <th>M</th>\n",
              "      <td>8052.459288</td>\n",
              "    </tr>\n",
              "    <tr>\n",
              "      <th rowspan=\"2\" valign=\"top\">Doctor</th>\n",
              "      <th>F</th>\n",
              "      <td>7328.508916</td>\n",
              "    </tr>\n",
              "    <tr>\n",
              "      <th>M</th>\n",
              "      <td>7415.333638</td>\n",
              "    </tr>\n",
              "    <tr>\n",
              "      <th rowspan=\"2\" valign=\"top\">High School or Below</th>\n",
              "      <th>F</th>\n",
              "      <td>8675.220201</td>\n",
              "    </tr>\n",
              "    <tr>\n",
              "      <th>M</th>\n",
              "      <td>8149.687783</td>\n",
              "    </tr>\n",
              "    <tr>\n",
              "      <th rowspan=\"2\" valign=\"top\">Master</th>\n",
              "      <th>F</th>\n",
              "      <td>8157.053154</td>\n",
              "    </tr>\n",
              "    <tr>\n",
              "      <th>M</th>\n",
              "      <td>8168.832659</td>\n",
              "    </tr>\n",
              "  </tbody>\n",
              "</table>\n",
              "</div>"
            ],
            "text/plain": [
              "                             customer_lifetime_value\n",
              "education            gender                         \n",
              "Bachelor             F                   7874.269478\n",
              "                     M                   7703.601675\n",
              "College              F                   7748.823325\n",
              "                     M                   8052.459288\n",
              "Doctor               F                   7328.508916\n",
              "                     M                   7415.333638\n",
              "High School or Below F                   8675.220201\n",
              "                     M                   8149.687783\n",
              "Master               F                   8157.053154\n",
              "                     M                   8168.832659"
            ]
          },
          "execution_count": 181,
          "metadata": {},
          "output_type": "execute_result"
        }
      ],
      "source": [
        "\n",
        "df.groupby([\"education\", \"gender\"]).agg({\"customer_lifetime_value\": \"mean\"})"
      ]
    },
    {
      "cell_type": "markdown",
      "id": "f3c2e46e",
      "metadata": {},
      "source": [
        "### It's possible to notice that in the lower education (High School or Below) the values are higher in both genders, but in the male gender its possible to verify that the master degree has the highest value in the male gender. In the female it's the High School or Below level that has the highest mean.\n",
        "### In the college, doctor and master it's possible to see that the female gender has the lowest values."
      ]
    },
    {
      "cell_type": "code",
      "execution_count": 182,
      "id": "f82de763",
      "metadata": {},
      "outputs": [
        {
          "data": {
            "text/html": [
              "<div>\n",
              "<style scoped>\n",
              "    .dataframe tbody tr th:only-of-type {\n",
              "        vertical-align: middle;\n",
              "    }\n",
              "\n",
              "    .dataframe tbody tr th {\n",
              "        vertical-align: top;\n",
              "    }\n",
              "\n",
              "    .dataframe thead th {\n",
              "        text-align: right;\n",
              "    }\n",
              "</style>\n",
              "<table border=\"1\" class=\"dataframe\">\n",
              "  <thead>\n",
              "    <tr style=\"text-align: right;\">\n",
              "      <th></th>\n",
              "      <th></th>\n",
              "      <th>customer_lifetime_value</th>\n",
              "    </tr>\n",
              "    <tr>\n",
              "      <th>education</th>\n",
              "      <th>gender</th>\n",
              "      <th></th>\n",
              "    </tr>\n",
              "  </thead>\n",
              "  <tbody>\n",
              "    <tr>\n",
              "      <th rowspan=\"2\" valign=\"top\">Bachelor</th>\n",
              "      <th>F</th>\n",
              "      <td>73225.95652</td>\n",
              "    </tr>\n",
              "    <tr>\n",
              "      <th>M</th>\n",
              "      <td>67907.27050</td>\n",
              "    </tr>\n",
              "    <tr>\n",
              "      <th rowspan=\"2\" valign=\"top\">College</th>\n",
              "      <th>F</th>\n",
              "      <td>61850.18803</td>\n",
              "    </tr>\n",
              "    <tr>\n",
              "      <th>M</th>\n",
              "      <td>61134.68307</td>\n",
              "    </tr>\n",
              "    <tr>\n",
              "      <th rowspan=\"2\" valign=\"top\">Doctor</th>\n",
              "      <th>F</th>\n",
              "      <td>44856.11397</td>\n",
              "    </tr>\n",
              "    <tr>\n",
              "      <th>M</th>\n",
              "      <td>32677.34284</td>\n",
              "    </tr>\n",
              "    <tr>\n",
              "      <th rowspan=\"2\" valign=\"top\">High School or Below</th>\n",
              "      <th>F</th>\n",
              "      <td>55277.44589</td>\n",
              "    </tr>\n",
              "    <tr>\n",
              "      <th>M</th>\n",
              "      <td>83325.38119</td>\n",
              "    </tr>\n",
              "    <tr>\n",
              "      <th rowspan=\"2\" valign=\"top\">Master</th>\n",
              "      <th>F</th>\n",
              "      <td>51016.06704</td>\n",
              "    </tr>\n",
              "    <tr>\n",
              "      <th>M</th>\n",
              "      <td>50568.25912</td>\n",
              "    </tr>\n",
              "  </tbody>\n",
              "</table>\n",
              "</div>"
            ],
            "text/plain": [
              "                             customer_lifetime_value\n",
              "education            gender                         \n",
              "Bachelor             F                   73225.95652\n",
              "                     M                   67907.27050\n",
              "College              F                   61850.18803\n",
              "                     M                   61134.68307\n",
              "Doctor               F                   44856.11397\n",
              "                     M                   32677.34284\n",
              "High School or Below F                   55277.44589\n",
              "                     M                   83325.38119\n",
              "Master               F                   51016.06704\n",
              "                     M                   50568.25912"
            ]
          },
          "execution_count": 182,
          "metadata": {},
          "output_type": "execute_result"
        }
      ],
      "source": [
        "df.groupby([\"education\", \"gender\"]).agg({\"customer_lifetime_value\": \"max\"})"
      ]
    },
    {
      "cell_type": "markdown",
      "id": "dfa1599c",
      "metadata": {},
      "source": [
        "### If we analyse the max values it's visible that the female gender has the higher values except in the High School or Below level which it the highest value in all apolicies. "
      ]
    },
    {
      "cell_type": "code",
      "execution_count": 183,
      "id": "f6d8a242",
      "metadata": {},
      "outputs": [
        {
          "data": {
            "text/html": [
              "<div>\n",
              "<style scoped>\n",
              "    .dataframe tbody tr th:only-of-type {\n",
              "        vertical-align: middle;\n",
              "    }\n",
              "\n",
              "    .dataframe tbody tr th {\n",
              "        vertical-align: top;\n",
              "    }\n",
              "\n",
              "    .dataframe thead th {\n",
              "        text-align: right;\n",
              "    }\n",
              "</style>\n",
              "<table border=\"1\" class=\"dataframe\">\n",
              "  <thead>\n",
              "    <tr style=\"text-align: right;\">\n",
              "      <th></th>\n",
              "      <th></th>\n",
              "      <th>customer_lifetime_value</th>\n",
              "    </tr>\n",
              "    <tr>\n",
              "      <th>education</th>\n",
              "      <th>gender</th>\n",
              "      <th></th>\n",
              "    </tr>\n",
              "  </thead>\n",
              "  <tbody>\n",
              "    <tr>\n",
              "      <th rowspan=\"2\" valign=\"top\">Bachelor</th>\n",
              "      <th>F</th>\n",
              "      <td>7874.269478</td>\n",
              "    </tr>\n",
              "    <tr>\n",
              "      <th>M</th>\n",
              "      <td>7703.601675</td>\n",
              "    </tr>\n",
              "    <tr>\n",
              "      <th rowspan=\"2\" valign=\"top\">College</th>\n",
              "      <th>F</th>\n",
              "      <td>7748.823325</td>\n",
              "    </tr>\n",
              "    <tr>\n",
              "      <th>M</th>\n",
              "      <td>8052.459288</td>\n",
              "    </tr>\n",
              "    <tr>\n",
              "      <th rowspan=\"2\" valign=\"top\">Doctor</th>\n",
              "      <th>F</th>\n",
              "      <td>7328.508916</td>\n",
              "    </tr>\n",
              "    <tr>\n",
              "      <th>M</th>\n",
              "      <td>7415.333638</td>\n",
              "    </tr>\n",
              "    <tr>\n",
              "      <th rowspan=\"2\" valign=\"top\">High School or Below</th>\n",
              "      <th>F</th>\n",
              "      <td>8675.220201</td>\n",
              "    </tr>\n",
              "    <tr>\n",
              "      <th>M</th>\n",
              "      <td>8149.687783</td>\n",
              "    </tr>\n",
              "    <tr>\n",
              "      <th rowspan=\"2\" valign=\"top\">Master</th>\n",
              "      <th>F</th>\n",
              "      <td>8157.053154</td>\n",
              "    </tr>\n",
              "    <tr>\n",
              "      <th>M</th>\n",
              "      <td>8168.832659</td>\n",
              "    </tr>\n",
              "  </tbody>\n",
              "</table>\n",
              "</div>"
            ],
            "text/plain": [
              "                             customer_lifetime_value\n",
              "education            gender                         \n",
              "Bachelor             F                   7874.269478\n",
              "                     M                   7703.601675\n",
              "College              F                   7748.823325\n",
              "                     M                   8052.459288\n",
              "Doctor               F                   7328.508916\n",
              "                     M                   7415.333638\n",
              "High School or Below F                   8675.220201\n",
              "                     M                   8149.687783\n",
              "Master               F                   8157.053154\n",
              "                     M                   8168.832659"
            ]
          },
          "execution_count": 183,
          "metadata": {},
          "output_type": "execute_result"
        }
      ],
      "source": [
        "df.groupby([\"education\", \"gender\"]).agg({\"customer_lifetime_value\": \"mean\"})"
      ]
    },
    {
      "cell_type": "markdown",
      "id": "77be27f0",
      "metadata": {},
      "source": [
        "### The minimum value it's always higher in the male gender except in the High School or Below and Bachelor levels. In the Master the diference it minimun between the genders."
      ]
    },
    {
      "cell_type": "markdown",
      "id": "b42999f9-311f-481e-ae63-40a5577072c5",
      "metadata": {
        "id": "b42999f9-311f-481e-ae63-40a5577072c5"
      },
      "source": [
        "## Bonus"
      ]
    },
    {
      "cell_type": "markdown",
      "id": "81ff02c5-6584-4f21-a358-b918697c6432",
      "metadata": {
        "id": "81ff02c5-6584-4f21-a358-b918697c6432"
      },
      "source": [
        "5. The marketing team wants to analyze the number of policies sold by state and month. Present the data in a table where the months are arranged as columns and the states are arranged as rows."
      ]
    },
    {
      "cell_type": "markdown",
      "id": "b6aec097-c633-4017-a125-e77a97259cda",
      "metadata": {
        "id": "b6aec097-c633-4017-a125-e77a97259cda"
      },
      "source": [
        "6.  Display a new DataFrame that contains the number of policies sold by month, by state, for the top 3 states with the highest number of policies sold.\n",
        "\n",
        "*Hint:*\n",
        "- *To accomplish this, you will first need to group the data by state and month, then count the number of policies sold for each group. Afterwards, you will need to sort the data by the count of policies sold in descending order.*\n",
        "- *Next, you will select the top 3 states with the highest number of policies sold.*\n",
        "- *Finally, you will create a new DataFrame that contains the number of policies sold by month for each of the top 3 states.*"
      ]
    },
    {
      "cell_type": "markdown",
      "id": "ba975b8a-a2cf-4fbf-9f59-ebc381767009",
      "metadata": {
        "id": "ba975b8a-a2cf-4fbf-9f59-ebc381767009"
      },
      "source": [
        "7. The marketing team wants to analyze the effect of different marketing channels on the customer response rate.\n",
        "\n",
        "Hint: You can use melt to unpivot the data and create a table that shows the customer response rate (those who responded \"Yes\") by marketing channel."
      ]
    },
    {
      "cell_type": "markdown",
      "id": "e4378d94-48fb-4850-a802-b1bc8f427b2d",
      "metadata": {
        "id": "e4378d94-48fb-4850-a802-b1bc8f427b2d"
      },
      "source": [
        "External Resources for Data Filtering: https://towardsdatascience.com/filtering-data-frames-in-pandas-b570b1f834b9"
      ]
    },
    {
      "cell_type": "code",
      "execution_count": 184,
      "id": "449513f4-0459-46a0-a18d-9398d974c9ad",
      "metadata": {
        "id": "449513f4-0459-46a0-a18d-9398d974c9ad"
      },
      "outputs": [],
      "source": [
        "# your code goes here"
      ]
    }
  ],
  "metadata": {
    "colab": {
      "provenance": []
    },
    "kernelspec": {
      "display_name": "Python 3 (ipykernel)",
      "language": "python",
      "name": "python3"
    },
    "language_info": {
      "codemirror_mode": {
        "name": "ipython",
        "version": 3
      },
      "file_extension": ".py",
      "mimetype": "text/x-python",
      "name": "python",
      "nbconvert_exporter": "python",
      "pygments_lexer": "ipython3",
      "version": "3.11.5"
    }
  },
  "nbformat": 4,
  "nbformat_minor": 5
}
